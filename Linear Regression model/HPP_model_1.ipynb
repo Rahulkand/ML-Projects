{
 "cells": [
  {
   "attachments": {},
   "cell_type": "markdown",
   "metadata": {},
   "source": [
    "Linear Regression Model\n",
    "y = w * x + b"
   ]
  },
  {
   "cell_type": "code",
   "execution_count": 2,
   "metadata": {},
   "outputs": [],
   "source": [
    "import math, copy\n",
    "import numpy as np\n",
    "import matplotlib.pyplot as plt"
   ]
  },
  {
   "attachments": {},
   "cell_type": "markdown",
   "metadata": {},
   "source": [
    "DataSet Loading Phase"
   ]
  },
  {
   "cell_type": "code",
   "execution_count": 3,
   "metadata": {},
   "outputs": [],
   "source": [
    "# dataset\n",
    "x_train = np.array([1.0, 2.0])\n",
    "y_train = np.array([300.0, 500.0])"
   ]
  },
  {
   "attachments": {},
   "cell_type": "markdown",
   "metadata": {},
   "source": [
    "Plot the Load data for Vizualization"
   ]
  },
  {
   "cell_type": "code",
   "execution_count": 7,
   "metadata": {},
   "outputs": [
    {
     "data": {
      "image/png": "[encoded data removed]",
      "text/plain": [
       "<Figure size 640x480 with 1 Axes>"
      ]
     },
     "metadata": {},
     "output_type": "display_data"
    }
   ],
   "source": [
    "plt.scatter(x_train,y_train,marker=\"X\",c=\"b\")\n",
    "plt.show()"
   ]
  },
  {
   "attachments": {},
   "cell_type": "markdown",
   "metadata": {},
   "source": [
    "Compute the Cost"
   ]
  },
  {
   "cell_type": "code",
   "execution_count": 8,
   "metadata": {},
   "outputs": [],
   "source": [
    "def compute_cost(x,y,w,b):      \n",
    "    # Total number of dataset\n",
    "    m = x.shape[0]\n",
    "    cost = 0\n",
    "    for i in range(m):\n",
    "        f_wb = w * x[i] + b\n",
    "        cost = cost + (f_wb - y[i])**2\n",
    "    total_cost = 1/(2*m) * cost\n",
    "    return total_cost"
   ]
  },
  {
   "cell_type": "code",
   "execution_count": 15,
   "metadata": {},
   "outputs": [],
   "source": [
    "def compute_gradient(x,y,w,b):\n",
    "    m = x.shape[0]\n",
    "    dj_dw = 0\n",
    "    dj_db = 0\n",
    "    \n",
    "    for i in range(m):\n",
    "        f_wb = w * x[i] + b\n",
    "        dj_dw_i = (f_wb - y[i]) * x[i]\n",
    "        dj_db_i = f_wb - y[i]\n",
    "        dj_dw += dj_dw_i\n",
    "        dj_db +=dj_db_i\n",
    "    dj_dw = dj_dw / m\n",
    "    dj_db = dj_db / m  \n",
    "    return dj_dw,dj_db"
   ]
  },
  {
   "cell_type": "code",
   "execution_count": 13,
   "metadata": {},
   "outputs": [],
   "source": [
    "def gradient_descent(x,y,w_in,b_in,alpha,num_iters,cost_function,gradeint_function):\n",
    "    J_history=[]\n",
    "    P_history=[]\n",
    "    w = w_in\n",
    "    b= b_in\n",
    "    for i in range(num_iters):\n",
    "        dj_dw,dj_db = gradeint_function(x,y,w,b)\n",
    "\n",
    "        w = w - alpha * dj_dw\n",
    "        b = b - alpha * dj_db\n",
    "\n",
    "        if(i<100000):\n",
    "            J_history.append(cost_function(x,y,w,b))\n",
    "            P_history.append([w,b])\n",
    "        if(i%1000 == 0):\n",
    "            print(f\"Iteration {i} : cost{J_history[-1]:0.2e}\",\n",
    "                  f\"dj_dw: {dj_dw: 0.3e}, dj_db: {dj_db: 0.3e}\",\n",
    "                  f\"w: {w: 0.3e}, b: {b: 0.5e}\")\n",
    "    return w, b, J_history,P_history"
   ]
  },
  {
   "cell_type": "code",
   "execution_count": 16,
   "metadata": {},
   "outputs": [
    {
     "name": "stdout",
     "output_type": "stream",
     "text": [
      "Iteration 0 : cost7.93e+04 dj_dw: -6.500e+02, dj_db: -4.000e+02 w:  6.500e+00, b:  4.00000e+00\n",
      "Iteration 1000 : cost3.41e+00 dj_dw: -3.712e-01, dj_db:  6.007e-01 w:  1.949e+02, b:  1.08228e+02\n",
      "Iteration 2000 : cost7.93e-01 dj_dw: -1.789e-01, dj_db:  2.895e-01 w:  1.975e+02, b:  1.03966e+02\n",
      "Iteration 3000 : cost1.84e-01 dj_dw: -8.625e-02, dj_db:  1.396e-01 w:  1.988e+02, b:  1.01912e+02\n",
      "Iteration 4000 : cost4.28e-02 dj_dw: -4.158e-02, dj_db:  6.727e-02 w:  1.994e+02, b:  1.00922e+02\n",
      "Iteration 5000 : cost9.95e-03 dj_dw: -2.004e-02, dj_db:  3.243e-02 w:  1.997e+02, b:  1.00444e+02\n",
      "Iteration 6000 : cost2.31e-03 dj_dw: -9.660e-03, dj_db:  1.563e-02 w:  1.999e+02, b:  1.00214e+02\n",
      "Iteration 7000 : cost5.37e-04 dj_dw: -4.657e-03, dj_db:  7.535e-03 w:  1.999e+02, b:  1.00103e+02\n",
      "Iteration 8000 : cost1.25e-04 dj_dw: -2.245e-03, dj_db:  3.632e-03 w:  2.000e+02, b:  1.00050e+02\n",
      "Iteration 9000 : cost2.90e-05 dj_dw: -1.082e-03, dj_db:  1.751e-03 w:  2.000e+02, b:  1.00024e+02\n",
      "[w,b]: (199.99285075131766, 100.011567727362)\n"
     ]
    }
   ],
   "source": [
    "w_init = 0\n",
    "b_init = 0\n",
    "iterations = 10000\n",
    "tmp_alpha = 0.01\n",
    "w_final , b_final , j_hist, p_hist = gradient_descent(x_train,y_train,w_init,b_init,tmp_alpha,iterations,compute_cost,compute_gradient)\n",
    "print(f\"[w,b]: {w_final,b_final}\") "
   ]
  }
 ],
 "metadata": {
  "kernelspec": {
   "display_name": "Python 3",
   "language": "python",
   "name": "python3"
  },
  "language_info": {
   "codemirror_mode": {
    "name": "ipython",
    "version": 3
   },
   "file_extension": ".py",
   "mimetype": "text/x-python",
   "name": "python",
   "nbconvert_exporter": "python",
   "pygments_lexer": "ipython3",
   "version": "3.9.1"
  },
  "orig_nbformat": 4
 },
 "nbformat": 4,
 "nbformat_minor": 2
}
