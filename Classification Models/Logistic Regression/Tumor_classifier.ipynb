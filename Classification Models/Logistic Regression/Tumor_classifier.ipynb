{
 "cells": [
  {
   "cell_type": "code",
   "execution_count": 2,
   "metadata": {},
   "outputs": [],
   "source": [
    "import numpy as np\n",
    "import math\n",
    "import matplotlib.pyplot as plt\n",
    "import pandas as pd"
   ]
  },
  {
   "cell_type": "markdown",
   "metadata": {},
   "source": [
    "Load DATASET"
   ]
  },
  {
   "cell_type": "code",
   "execution_count": 84,
   "metadata": {},
   "outputs": [
    {
     "name": "stdout",
     "output_type": "stream",
     "text": [
      "[[0.5 1.5]\n",
      " [1.  1. ]\n",
      " [1.5 0.5]\n",
      " [3.  0.5]\n",
      " [2.  2. ]\n",
      " [1.  2.5]] [0 0 0 1 1 1]\n"
     ]
    }
   ],
   "source": [
    "X_train = np.array([[0.5, 1.5], [1,1], [1.5, 0.5], [3, 0.5], [2, 2], [1, 2.5]])\n",
    "y_train = np.array([0, 0, 0, 1, 1, 1])\n",
    "print(X_train,y_train)"
   ]
  },
  {
   "cell_type": "markdown",
   "metadata": {},
   "source": [
    "Visual Representation"
   ]
  },
  {
   "cell_type": "code",
   "execution_count": 100,
   "metadata": {},
   "outputs": [
    {
     "data": {
      "image/png": "[encoded data removed]",
      "text/plain": [
       "<Figure size 640x480 with 1 Axes>"
      ]
     },
     "metadata": {},
     "output_type": "display_data"
    }
   ],
   "source": [
    "fig = plt.figure()\n",
    "ax = fig.add_subplot(1,1,1)\n",
    "ax.axis([0,4,0,3.5])\n",
    "ax.scatter(X_train[:,0],X_train[:,1],marker=\"X\")\n",
    "plt.show()"
   ]
  },
  {
   "cell_type": "markdown",
   "metadata": {},
   "source": [
    "Sigmoid Function"
   ]
  },
  {
   "cell_type": "code",
   "execution_count": 86,
   "metadata": {},
   "outputs": [],
   "source": [
    "def sigmoid_function(z):\n",
    "    exp_i = np.exp(-z)\n",
    "    sigmoid_z = 1/(1+exp_i)\n",
    "    return sigmoid_z"
   ]
  },
  {
   "cell_type": "code",
   "execution_count": 87,
   "metadata": {},
   "outputs": [],
   "source": [
    "def compute_gradient_logistic(X,y,w,b):\n",
    "    m,n = X.shape\n",
    "    dj_dw = np.zeros((n,))\n",
    "    dj_db = 0\n",
    "    for i in range(m):\n",
    "        f_wb_i = sigmoid_function(np.dot(X[i],w) + b)\n",
    "        err_i = f_wb_i - y[i]\n",
    "        for j in range(n):\n",
    "            dj_dw[j] += err_i * X[i][j]\n",
    "        dj_db += err_i \n",
    "    dj_dw = dj_dw/m\n",
    "    dj_db = dj_db/m\n",
    "\n",
    "    return dj_dw,dj_db"
   ]
  },
  {
   "cell_type": "code",
   "execution_count": 88,
   "metadata": {},
   "outputs": [],
   "source": [
    "def compute_cost_logistic(X,y,w,b):\n",
    "    m,n= X.shape\n",
    "    cost = 0.0\n",
    "    for i in range(m):\n",
    "        z_cl = (np.dot(X[i],w) + b)\n",
    "        f_wb_i_cl = sigmoid_function(z_cl)\n",
    "        cost += -y[i] * np.log(f_wb_i_cl) - (1-y[i]) * np.log(1-f_wb_i_cl)\n",
    "    cost = cost/m\n",
    "    return cost"
   ]
  },
  {
   "cell_type": "code",
   "execution_count": 89,
   "metadata": {},
   "outputs": [],
   "source": [
    "def gradient_descent(X,y,w_in,b_in,iters,alpha):\n",
    "    w = w_in\n",
    "    b = b_in\n",
    "    J_history = []\n",
    "\n",
    "    for i in range(iters):\n",
    "        dj_dw,dj_db = compute_gradient_logistic(X_train,y_train,w,b)\n",
    "        w = w - alpha * dj_dw\n",
    "        b = b - alpha * dj_db\n",
    "\n",
    "        if(i<10000):\n",
    "            J_history.append(compute_cost_logistic(X_train,y_train,w,b))\n",
    "        if(i%1000 == 0):\n",
    "            print(f\"Iteration: {i:4d}  cost: {J_history[-1]}\")\n",
    "    return w,b \n",
    "    "
   ]
  },
  {
   "cell_type": "code",
   "execution_count": 90,
   "metadata": {},
   "outputs": [
    {
     "name": "stdout",
     "output_type": "stream",
     "text": [
      "Iteration:    0  cost: 0.684610468560574\n",
      "Iteration: 1000  cost: 0.1590977666870457\n",
      "Iteration: 2000  cost: 0.08460064176930078\n",
      "Iteration: 3000  cost: 0.05705327279402531\n",
      "Iteration: 4000  cost: 0.04290759421682\n",
      "Iteration: 5000  cost: 0.03433847729884557\n",
      "Iteration: 6000  cost: 0.02860379802212006\n",
      "Iteration: 7000  cost: 0.02450156960879306\n",
      "Iteration: 8000  cost: 0.02142370332569295\n",
      "Iteration: 9000  cost: 0.019030137124109114\n",
      "w: [5.28123029 5.07815608] b: -14.222409982019837\n"
     ]
    }
   ],
   "source": [
    "w_tmp = np.zeros_like(X_train[0])\n",
    "b_tmp = 0.\n",
    "alpha = 0.1\n",
    "iters = 10000\n",
    "w_final,b_final = gradient_descent(X_train,y_train,w_tmp,b_tmp,iters,alpha)\n",
    "print(f\"w: {w_final} b: {b_final}\")\n"
   ]
  },
  {
   "cell_type": "code",
   "execution_count": 4,
   "metadata": {},
   "outputs": [
    {
     "name": "stdout",
     "output_type": "stream",
     "text": [
      "[ 4  9 36]\n"
     ]
    }
   ],
   "source": [
    "a = [2,3,6]\n",
    "print(np.square(a[1]))"
   ]
  }
 ],
 "metadata": {
  "kernelspec": {
   "display_name": "Python 3",
   "language": "python",
   "name": "python3"
  },
  "language_info": {
   "codemirror_mode": {
    "name": "ipython",
    "version": 3
   },
   "file_extension": ".py",
   "mimetype": "text/x-python",
   "name": "python",
   "nbconvert_exporter": "python",
   "pygments_lexer": "ipython3",
   "version": "3.9.1"
  },
  "orig_nbformat": 4
 },
 "nbformat": 4,
 "nbformat_minor": 2
}
